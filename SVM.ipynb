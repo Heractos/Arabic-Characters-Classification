{
 "cells": [
  {
   "attachments": {},
   "cell_type": "markdown",
   "metadata": {},
   "source": [
    "# Support Vector Machine (SVM)"
   ]
  },
  {
   "cell_type": "code",
   "execution_count": 1,
   "metadata": {},
   "outputs": [],
   "source": [
    "import matplotlib.pyplot as plt\n",
    "from sklearn import svm\n",
    "import numpy as np\n",
    "import seaborn as sns\n",
    "import pandas as pd\n",
    "from sklearn.metrics import accuracy_score, confusion_matrix\n",
    "import warnings\n",
    "warnings.filterwarnings(\"ignore\")"
   ]
  },
  {
   "cell_type": "code",
   "execution_count": 2,
   "metadata": {},
   "outputs": [],
   "source": [
    "#importing training and testing sets\n",
    "train_data = pd.read_csv(\"/Users/hkrukauskas/Documents/GitHub/ML-final-project/csvTrainImages 13440x1024.csv\", header = None).values\n",
    "train_label = pd.read_csv(\"/Users/hkrukauskas/Documents/GitHub/ML-final-project/csvTrainLabel 13440x1.csv\", header = None)\n",
    "\n",
    "test_data = pd.read_csv(\"/Users/hkrukauskas/Documents/GitHub/ML-final-project/csvTestImages 3360x1024.csv\", header = None).values\n",
    "test_label = pd.read_csv(\"/Users/hkrukauskas/Documents/GitHub/ML-final-project/csvTestLabel 3360x1.csv\", header = None)"
   ]
  },
  {
   "cell_type": "code",
   "execution_count": 3,
   "metadata": {},
   "outputs": [],
   "source": [
    "#Reshaping train_label and tes_label to be 2D array\n",
    "train_label = np.array(train_label).reshape((train_label.shape[0], 1))\n",
    "test_label = np.array(test_label).reshape((test_label.shape[0], 1))"
   ]
  },
  {
   "cell_type": "code",
   "execution_count": 4,
   "metadata": {},
   "outputs": [],
   "source": [
    "#Normalization\n",
    "train_data = train_data / 255.0\n",
    "test_data = test_data / 255.0"
   ]
  },
  {
   "cell_type": "code",
   "execution_count": 5,
   "metadata": {},
   "outputs": [],
   "source": [
    "#C values for regularization\n",
    "c_lst = [0.0001, 0.001, 0.01, 0.1, 1, 10, 100]"
   ]
  },
  {
   "cell_type": "code",
   "execution_count": 6,
   "metadata": {},
   "outputs": [],
   "source": [
    "linear_acc_test = []\n",
    "linear_acc_train = []\n",
    "\n",
    "for C in c_lst:\n",
    "\n",
    "    clf = svm.SVC(kernel = \"linear\", C = C)\n",
    "\n",
    "    clf.fit(train_data,train_label)\n",
    "\n",
    "    test_pred_label = clf.predict(test_data)\n",
    "    \n",
    "    train_pred_label = clf.predict(train_data)\n",
    "\n",
    "    linear_acc_test.append(accuracy_score(y_true = test_label, y_pred = test_pred_label))\n",
    "    linear_acc_train.append(accuracy_score(y_true = train_label, y_pred = train_pred_label))\n",
    "\n",
    "plt.plot(c_lst, linear_acc_test, \"r-\")\n",
    "plt.grid(True)\n",
    "plt.xlabel('C')\n",
    "plt.ylabel('Accuracy')\n",
    "plt.show()"
   ]
  },
  {
   "cell_type": "code",
   "execution_count": null,
   "metadata": {},
   "outputs": [],
   "source": [
    "rbf_acc_test = []\n",
    "rbf_acc_train = []\n",
    "\n",
    "for C in c_lst:\n",
    "\n",
    "    clf = svm.SVC(kernel = \"rbf\", C = C)\n",
    "\n",
    "    clf.fit(train_data, train_label)\n",
    "\n",
    "    test_pred_label = clf.predict(test_data)\n",
    "    train_pred_label = clf.predict(train_data)\n",
    "\n",
    "    rbf_acc_test.append(accuracy_score(y_true = test_label, y_pred = test_pred_label))\n",
    "    rbf_acc_train.append(accuracy_score(y_true = train_label, y_pred = train_pred_label))\n",
    "\n",
    "plt.plot(c_lst, rbf_acc_test, \"y-\")\n",
    "plt.grid(True)\n",
    "plt.xlabel('C')\n",
    "plt.ylabel('Accuracy')\n",
    "plt.show()"
   ]
  },
  {
   "cell_type": "code",
   "execution_count": null,
   "metadata": {},
   "outputs": [],
   "source": [
    "sigmoid_acc_test = []\n",
    "sigmoid_acc_train = []\n",
    "\n",
    "for C in c_lst:\n",
    "\n",
    "    clf = svm.SVC(kernel = \"sigmoid\", C = C)\n",
    "\n",
    "    clf.fit(train_data, train_label)\n",
    "\n",
    "    test_pred_label = clf.predict(test_data)\n",
    "    train_pred_label = clf.predict(train_data)\n",
    "\n",
    "    sigmoid_acc_test.append(accuracy_score(y_true = test_label, y_pred = test_pred_label))\n",
    "    sigmoid_acc_train.append(accuracy_score(y_true = train_label, y_pred = train_pred_label))\n",
    "\n",
    "plt.plot(c_lst, sigmoid_acc_test, \"b-\")\n",
    "plt.grid(True)\n",
    "plt.xlabel('C')\n",
    "plt.ylabel('Accuracy')\n",
    "plt.show()"
   ]
  },
  {
   "cell_type": "code",
   "execution_count": null,
   "metadata": {},
   "outputs": [],
   "source": [
    "clf = svm.SVC(kernel = \"rbf\", C = 100)\n",
    "\n",
    "clf.fit(train_data, train_label)\n",
    "\n",
    "test_pred_label = clf.predict(test_data)\n",
    "\n",
    "score = accuracy_score(y_true = test_label, y_pred = test_pred_label)\n",
    "\n",
    "cm = confusion_matrix(y_true = test_label, y_pred = test_pred_label)\n",
    "\n",
    "plt.figure(figsize = (15, 15))\n",
    "sns.heatmap(cm, annot = True, fmt = \".3f\", linewidths = .5, square = True, cmap = 'Blues_r')\n",
    "plt.ylabel('Actual label')\n",
    "plt.xlabel('Predicted label')\n",
    "all_sample_title = 'Accuracy Score: {0}'.format(score)\n",
    "plt.title(all_sample_title, size = 15)"
   ]
  }
 ],
 "metadata": {
  "interpreter": {
   "hash": "aee8b7b246df8f9039afb4144a1f6fd8d2ca17a180786b69acc140d282b71a49"
  },
  "kernelspec": {
   "display_name": "Python 3.9.0 64-bit",
   "name": "python3"
  },
  "language_info": {
   "codemirror_mode": {
    "name": "ipython",
    "version": 3
   },
   "file_extension": ".py",
   "mimetype": "text/x-python",
   "name": "python",
   "nbconvert_exporter": "python",
   "pygments_lexer": "ipython3",
   "version": "3.9.0"
  }
 },
 "nbformat": 4,
 "nbformat_minor": 4
}
